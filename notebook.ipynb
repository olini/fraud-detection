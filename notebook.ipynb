{
 "cells": [
  {
   "cell_type": "markdown",
   "source": [
    "# Business Problem and Contextualization\n",
    "\n",
    "We will be developing a fraud detection solution for a company specialized on this service. Their business model is the following:\n",
    "* The company receives 25% of the transaction value labeled correctly as fraud;\n",
    "* The company receives 5% of the transaction value labeled as fraud which is in reality a legitimate one;\n",
    "* The company will give back 100% of the transaction value labeled as legitimate which is in reality a fraudulent one.\n",
    "\n",
    "This is an agressive business model which depends a lot on the capability of the solution to minimize false negatives.\n",
    "\n",
    "The delivery method will be an API endpoint which receives a transaction, classifies it and returns to the client if it is a legitimate or fraudulent one.\n",
    "\n",
    "The dataset used is from a mobile money service, which contains a wallet and enables users to transfer money between them."
   ],
   "metadata": {}
  },
  {
   "cell_type": "markdown",
   "source": [
    "# 0. Imports"
   ],
   "metadata": {}
  },
  {
   "cell_type": "code",
   "execution_count": null,
   "source": [
    "import pandas as pd\n",
    "import plotly.express as px\n",
    "\n",
    "from collections import Counter\n",
    "from sklearn.model_selection import train_test_split"
   ],
   "outputs": [],
   "metadata": {
    "execution": {
     "iopub.execute_input": "2021-10-05T11:12:01.877257Z",
     "iopub.status.busy": "2021-10-05T11:12:01.876714Z",
     "iopub.status.idle": "2021-10-05T11:12:02.371539Z",
     "shell.execute_reply": "2021-10-05T11:12:02.370884Z",
     "shell.execute_reply.started": "2021-10-05T11:12:01.877202Z"
    },
    "tags": []
   }
  },
  {
   "cell_type": "markdown",
   "source": [
    "# 1. Configs and Helper Functions "
   ],
   "metadata": {}
  },
  {
   "cell_type": "markdown",
   "source": [
    "## 1.1. Configs"
   ],
   "metadata": {}
  },
  {
   "cell_type": "code",
   "execution_count": null,
   "source": [
    "pd.options.display.float_format = '{:.4f}'.format"
   ],
   "outputs": [],
   "metadata": {}
  },
  {
   "cell_type": "markdown",
   "source": [
    "# 2. Load Data "
   ],
   "metadata": {}
  },
  {
   "cell_type": "code",
   "execution_count": null,
   "source": [
    "df = pd.read_csv('data/PS_20174392719_1491204439457_log.csv')"
   ],
   "outputs": [],
   "metadata": {
    "execution": {
     "iopub.execute_input": "2021-10-05T11:12:03.086530Z",
     "iopub.status.busy": "2021-10-05T11:12:03.086000Z",
     "iopub.status.idle": "2021-10-05T11:12:15.018830Z",
     "shell.execute_reply": "2021-10-05T11:12:15.017797Z",
     "shell.execute_reply.started": "2021-10-05T11:12:03.086483Z"
    },
    "tags": []
   }
  },
  {
   "cell_type": "code",
   "execution_count": null,
   "source": [
    "df.head()"
   ],
   "outputs": [],
   "metadata": {
    "execution": {
     "iopub.execute_input": "2021-10-04T12:02:13.752817Z",
     "iopub.status.busy": "2021-10-04T12:02:13.751713Z",
     "iopub.status.idle": "2021-10-04T12:02:13.781606Z",
     "shell.execute_reply": "2021-10-04T12:02:13.780796Z",
     "shell.execute_reply.started": "2021-10-04T12:02:13.752723Z"
    }
   }
  },
  {
   "cell_type": "markdown",
   "source": [
    "## 2.1. Train Test Split"
   ],
   "metadata": {}
  },
  {
   "cell_type": "code",
   "execution_count": null,
   "source": [
    "Counter(df['isFraud'])"
   ],
   "outputs": [],
   "metadata": {}
  },
  {
   "cell_type": "code",
   "execution_count": null,
   "source": [
    "Counter(df['isFraud'])[1] / (Counter(df['isFraud'])[0] + Counter(df['isFraud'])[1])"
   ],
   "outputs": [],
   "metadata": {}
  },
  {
   "cell_type": "markdown",
   "source": [
    "As we have an imbalanced dataset (only ~0.13% of rows are fraudulent) we need to do a stratified train-test split to keep the same proportion of legitimate and fraudulent transactions on train and test sets."
   ],
   "metadata": {}
  },
  {
   "cell_type": "code",
   "execution_count": null,
   "source": [
    "X = df.drop(['isFraud'], axis=1)\n",
    "y = df['isFraud'].copy()\n",
    "\n",
    "X_train, X_test, y_train, y_test = train_test_split(X, y, test_size=0.33, random_state=4, stratify=y)"
   ],
   "outputs": [],
   "metadata": {}
  },
  {
   "cell_type": "code",
   "execution_count": null,
   "source": [
    "print('Proportion of fraudulent transactions on train set: ', Counter(y_train)[1] / (Counter(y_train)[0] + Counter(y_train)[1]))\n",
    "print('Proportion of fraudulent transactions on test set: ', Counter(y_test)[1] / (Counter(y_test)[0] + Counter(y_test)[1]))"
   ],
   "outputs": [],
   "metadata": {
    "execution": {
     "iopub.execute_input": "2021-10-04T12:02:35.310429Z",
     "iopub.status.busy": "2021-10-04T12:02:35.309503Z",
     "iopub.status.idle": "2021-10-04T12:02:35.360992Z",
     "shell.execute_reply": "2021-10-04T12:02:35.360124Z",
     "shell.execute_reply.started": "2021-10-04T12:02:35.310374Z"
    }
   }
  },
  {
   "cell_type": "markdown",
   "source": [
    "# 3. Data Description"
   ],
   "metadata": {}
  },
  {
   "cell_type": "code",
   "execution_count": null,
   "source": [
    "# first, lets merge X_train and y_train for better data manipulation and analysis\n",
    "df = pd.concat([X_train, y_train], axis = 1)\n",
    "\n",
    "df.head()"
   ],
   "outputs": [],
   "metadata": {}
  },
  {
   "cell_type": "markdown",
   "source": [
    "## 3.1. Columns content\n",
    "\n",
    "* step: maps a unit of time in the real world. In this case 1 step is 1 hour of time. Total steps 744 (30 days);\n",
    "* type: the type of the transaction being made. We will assume the following meaning for each:\n",
    "  * CASH-IN: depositing money on the wallet;\n",
    "  * CASH-OUT: withdraw money from the wallet;\n",
    "  * DEBIT: similar to a payment;\n",
    "  * PAYMENT: paying some invoice;\n",
    "  * TRANSFER: transfering money to another user;\n",
    "* amount: amount of the transaction in local currency;\n",
    "* nameOrig: source customer who made the transaction;\n",
    "* oldbalanceOrg: balance of the source customer before the transaction;\n",
    "* newbalanceOrig: balance of the source customer after the transaction;\n",
    "* nameDest: destination customer who is the recipient of the transaction;\n",
    "* oldbalanceDest: balance of the destination customer before the transaction. Important: for customers that start with M (Merchants), this information is not filled;\n",
    "* newbalanceDest: balance of the destination customer after tbe transaction. Important: for customers that start with M (Merchants), this information is not filled;\n",
    "* isFlaggedFraud: the business model aims to control massive transfers from one account to another and flags suspicious attempts. A suspicious attempt in this dataset is an attempt to transfer more than 200.000 in a single transaction;\n",
    "* isFraud: flags if the transaction is fraudulent (1) or genuine (0). In this dataset, the fraudulent behavior of the agents aims to profit by taking control of customers accounts and trying to empty the funds by transferring to another account, which then cashes out of the system."
   ],
   "metadata": {}
  },
  {
   "cell_type": "markdown",
   "source": [
    "## 3.2. Data Dimension"
   ],
   "metadata": {}
  },
  {
   "cell_type": "code",
   "execution_count": null,
   "source": [
    "print('Number of rows: ', df.shape[0])\n",
    "print('Number of columns: ', df.shape[1])"
   ],
   "outputs": [],
   "metadata": {}
  },
  {
   "cell_type": "markdown",
   "source": [
    "## 3.3. Data Types"
   ],
   "metadata": {}
  },
  {
   "cell_type": "code",
   "execution_count": null,
   "source": [
    "df.dtypes"
   ],
   "outputs": [],
   "metadata": {}
  },
  {
   "cell_type": "markdown",
   "source": [
    "No need for adjustments on data types"
   ],
   "metadata": {}
  },
  {
   "cell_type": "markdown",
   "source": [
    "## 3.4. Check NAs"
   ],
   "metadata": {}
  },
  {
   "cell_type": "code",
   "execution_count": null,
   "source": [
    "df.isna().sum()"
   ],
   "outputs": [],
   "metadata": {}
  },
  {
   "cell_type": "markdown",
   "source": [
    "No NAs on dataset"
   ],
   "metadata": {}
  },
  {
   "cell_type": "markdown",
   "source": [
    "## 3.5. Descriptive Statistics"
   ],
   "metadata": {}
  },
  {
   "cell_type": "code",
   "execution_count": null,
   "source": [
    "num_attributes = ['step', 'amount', 'oldbalanceOrg', 'newbalanceOrig', 'oldbalanceDest', 'newbalanceDest']\n",
    "cat_attributes = ['type', 'nameOrig', 'nameDest', 'isFlaggedFraud', 'isFraud']"
   ],
   "outputs": [],
   "metadata": {}
  },
  {
   "cell_type": "markdown",
   "source": [
    "### 3.5.1. Numerical attributes"
   ],
   "metadata": {}
  },
  {
   "cell_type": "code",
   "execution_count": null,
   "source": [
    "df[num_attributes].describe()"
   ],
   "outputs": [],
   "metadata": {}
  },
  {
   "cell_type": "code",
   "execution_count": null,
   "source": [
    "df[num_attributes].skew()"
   ],
   "outputs": [],
   "metadata": {}
  },
  {
   "cell_type": "code",
   "execution_count": null,
   "source": [
    "df[num_attributes].kurtosis()"
   ],
   "outputs": [],
   "metadata": {}
  },
  {
   "cell_type": "markdown",
   "source": [
    "#### 3.5.1.1. amount"
   ],
   "metadata": {}
  },
  {
   "cell_type": "code",
   "execution_count": null,
   "source": [
    "fig = px.histogram(df, x='amount', nbins=10)\n",
    "fig.show()"
   ],
   "outputs": [],
   "metadata": {}
  },
  {
   "cell_type": "markdown",
   "source": [
    "By looking at the statistics and the graph, we can already detect a huge asymmetry on the amount value distribution, we will have to investigate further this variable."
   ],
   "metadata": {}
  },
  {
   "cell_type": "markdown",
   "source": [
    "### 3.5.2. Categorical attributes"
   ],
   "metadata": {}
  },
  {
   "cell_type": "code",
   "execution_count": null,
   "source": [
    "df[cat_attributes].head()"
   ],
   "outputs": [],
   "metadata": {}
  },
  {
   "cell_type": "markdown",
   "source": [
    "#### 3.5.2.1. type"
   ],
   "metadata": {}
  },
  {
   "cell_type": "code",
   "execution_count": null,
   "source": [
    "Counter(df['type'])"
   ],
   "outputs": [],
   "metadata": {}
  },
  {
   "cell_type": "code",
   "execution_count": null,
   "source": [
    "fig = px.histogram(df, x='type')\n",
    "\n",
    "fig.show()"
   ],
   "outputs": [],
   "metadata": {}
  },
  {
   "cell_type": "code",
   "execution_count": null,
   "source": [
    "fig = px.histogram(df, x='type', color='isFraud', barmode = 'group')\n",
    "\n",
    "fig.show()"
   ],
   "outputs": [],
   "metadata": {}
  },
  {
   "cell_type": "code",
   "execution_count": null,
   "source": [
    "df.groupby(['type', 'isFraud'])['isFraud']"
   ],
   "outputs": [],
   "metadata": {}
  }
 ],
 "metadata": {
  "kernelspec": {
   "name": "python3",
   "display_name": "Python 3.8.10 64-bit ('fraud-detection': venv)"
  },
  "language_info": {
   "codemirror_mode": {
    "name": "ipython",
    "version": 3
   },
   "file_extension": ".py",
   "mimetype": "text/x-python",
   "name": "python",
   "nbconvert_exporter": "python",
   "pygments_lexer": "ipython3",
   "version": "3.8.10"
  },
  "interpreter": {
   "hash": "98e3913ba15a5b7209691930b0f6fe511b9d4d3e07046e6ee20e590e9b8432a2"
  }
 },
 "nbformat": 4,
 "nbformat_minor": 5
}